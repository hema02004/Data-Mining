{
  "nbformat": 4,
  "nbformat_minor": 0,
  "metadata": {
    "colab": {
      "provenance": [],
      "authorship_tag": "ABX9TyMtzGjme1BUS4xo1ROn8ia8",
      "include_colab_link": true
    },
    "kernelspec": {
      "name": "python3",
      "display_name": "Python 3"
    },
    "language_info": {
      "name": "python"
    }
  },
  "cells": [
    {
      "cell_type": "markdown",
      "metadata": {
        "id": "view-in-github",
        "colab_type": "text"
      },
      "source": [
        "<a href=\"https://colab.research.google.com/github/hema02004/Data-Mining/blob/main/ml-exp4.ipynb\" target=\"_parent\"><img src=\"https://colab.research.google.com/assets/colab-badge.svg\" alt=\"Open In Colab\"/></a>"
      ]
    },
    {
      "cell_type": "code",
      "source": [
        "import pandas as pd\n",
        "from pprint import pprint\n",
        "from sklearn.feature_selection import mutual_info_classif\n",
        "from collections import Counter\n",
        "\n",
        "def id3(df, target_attribute, attribute_names, default_class=None):\n",
        "  cnt=Counter(x for x in df[target_attribute])\n",
        "  if len(cnt)==1:\n",
        "    return next(iter(cnt))\n",
        "\n",
        "  elif df.empty or (not attribute_names):\n",
        "    return default_class\n",
        "\n",
        "  else:\n",
        "    gainz = mutual_info_classif(df[attribute_names],df[target_attribute],discrete_features=True)\n",
        "    index_of_max=gainz.tolist().index(max(gainz))\n",
        "    best_attr=attribute_names[index_of_max]\n",
        "    tree={best_attr:{}}\n",
        "    remaining_attribute_names=[i for i in attribute_names if i!=best_attr]\n",
        "\n",
        "    for attr_val, data_subset in df.groupby(best_attr):\n",
        "      subtree=id3(data_subset, target_attribute, remaining_attribute_names,default_class)\n",
        "      tree[best_attr][attr_val]=subtree\n",
        "\n",
        "    return tree\n",
        "\n",
        "\n",
        "df=pd.read_csv(\"/content/PlayTennis.csv\")\n",
        "\n",
        "attribute_names=df.columns.tolist()\n",
        "print(\"List of attribute names:\")  # Corrected typo\n",
        "print(attribute_names)  # Print the list to verify contents\n",
        "\n",
        "# Check if 'PlayTennis' is in the list before removing\n",
        "if \"Play Tennis\" in attribute_names:\n",
        "    attribute_names.remove(\"Play Tennis\")\n",
        "else:\n",
        "    print(\"Warning: 'PlayTennis' not found in attribute list.\")\n",
        "\n",
        "for colname in df.select_dtypes(\"object\"):\n",
        "    df[colname], _ = df[colname].factorize()\n",
        "\n",
        "print(df)\n",
        "\n",
        "tree= id3(df,\"Play Tennis\", attribute_names)\n",
        "print(\"The tree structure\")\n",
        "pprint(tree)"
      ],
      "metadata": {
        "colab": {
          "base_uri": "https://localhost:8080/"
        },
        "id": "D0EVJKm07Ll_",
        "outputId": "f377df10-e423-49c6-dc6a-58d876a551dc"
      },
      "execution_count": 14,
      "outputs": [
        {
          "output_type": "stream",
          "name": "stdout",
          "text": [
            "List of attribute names:\n",
            "['Outlook', 'Temperature', 'Humidity', 'Wind', 'Play Tennis']\n",
            "    Outlook  Temperature  Humidity  Wind  Play Tennis\n",
            "0         0            0         0     0            0\n",
            "1         0            0         0     1            0\n",
            "2         1            0         0     0            1\n",
            "3         2            1         0     0            1\n",
            "4         2            2         1     0            1\n",
            "5         2            2         1     1            0\n",
            "6         1            2         1     1            1\n",
            "7         0            1         0     0            0\n",
            "8         0            2         1     0            1\n",
            "9         2            1         1     0            1\n",
            "10        0            1         1     1            1\n",
            "11        1            1         0     1            1\n",
            "12        1            0         1     0            1\n",
            "13        2            1         0     1            0\n",
            "The tree structure\n",
            "{'Outlook': {0: {'Humidity': {0: 0, 1: 1}}, 1: 1, 2: {'Wind': {0: 1, 1: 0}}}}\n"
          ]
        }
      ]
    }
  ]
}